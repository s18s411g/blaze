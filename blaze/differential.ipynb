{
 "cells": [
  {
   "cell_type": "code",
   "execution_count": 1,
   "id": "a966fa4c-bae1-4301-a184-d96a2a57347c",
   "metadata": {},
   "outputs": [],
   "source": [
    "kara = \"./cp/seisui_kara_1/a-points_intensity.txt\"\n",
    "mizu = \"./cp/seisui_mizu_1/a-points_intensity.txt\""
   ]
  },
  {
   "cell_type": "code",
   "execution_count": 4,
   "id": "99accf53-629e-4e10-94b0-bf7be37b2571",
   "metadata": {},
   "outputs": [],
   "source": [
    "with open(kara, \"r\") as f:\n",
    "    lines_kara = f.readlines()\n",
    "\n",
    "with open(mizu, \"r\") as f:\n",
    "    lines_mizu = f.readlines()"
   ]
  },
  {
   "cell_type": "code",
   "execution_count": 6,
   "id": "b34efec2-aff6-44a1-bb68-dd1f89138b03",
   "metadata": {},
   "outputs": [
    {
     "data": {
      "text/plain": [
       "['-845.961', '364.36', '-1793.55', '49', '49', '49']"
      ]
     },
     "execution_count": 6,
     "metadata": {},
     "output_type": "execute_result"
    }
   ],
   "source": [
    "lines_kara[0].split()"
   ]
  },
  {
   "cell_type": "code",
   "execution_count": 10,
   "id": "7715abfe-b28a-4322-a285-185154cecb0a",
   "metadata": {},
   "outputs": [],
   "source": [
    "list_kara = []\n",
    "list_mizu = []\n",
    "for line_kara in lines_kara:\n",
    "    list_kara.append(line_kara.split())\n",
    "    \n",
    "for line_mizu in lines_mizu:\n",
    "    list_mizu.append(line_mizu.split())"
   ]
  },
  {
   "cell_type": "code",
   "execution_count": 32,
   "id": "ad7aabc5-0b04-4cf5-979d-930474659c74",
   "metadata": {},
   "outputs": [],
   "source": [
    "list_res = []\n",
    "for i in range(len(list_kara)):\n",
    "    x = float(list_mizu[i][0]) - float(list_kara[i][0])\n",
    "    y = float(list_mizu[i][1]) - float(list_kara[i][1])\n",
    "    z = float(list_mizu[i][2]) - float(list_kara[i][2])\n",
    "    list_res.append([x, y, z])"
   ]
  },
  {
   "cell_type": "code",
   "execution_count": 37,
   "id": "1bd4c818-09ec-4780-a133-0820e8ddcfae",
   "metadata": {},
   "outputs": [],
   "source": [
    "with open(\"./differential.txt\", \"w\") as f:\n",
    "    for i in range(len(list_res)):\n",
    "        f.write(str(list_res[i][0]) + \" \" + str(list_res[i][1]) + \" \"\n",
    "                + str(list_res[i][2]) + \"\\n\"  )"
   ]
  },
  {
   "cell_type": "code",
   "execution_count": 36,
   "id": "90616aed-8667-4ae7-a88f-5134efd12d28",
   "metadata": {},
   "outputs": [
    {
     "data": {
      "text/plain": [
       "[17.408000000000015, 23.087999999999965, 7.180000000000064]"
      ]
     },
     "execution_count": 36,
     "metadata": {},
     "output_type": "execute_result"
    }
   ],
   "source": [
    "list_res[0]"
   ]
  },
  {
   "cell_type": "code",
   "execution_count": null,
   "id": "33cc2e32-486e-4e8e-bc72-7d213d6a77ad",
   "metadata": {},
   "outputs": [],
   "source": []
  },
  {
   "cell_type": "code",
   "execution_count": null,
   "id": "d28fa75e-0dc0-4906-9547-4afccf9e9ccc",
   "metadata": {},
   "outputs": [],
   "source": []
  },
  {
   "cell_type": "code",
   "execution_count": null,
   "id": "d104b22f-2268-422e-b99b-353d9469270e",
   "metadata": {},
   "outputs": [],
   "source": []
  },
  {
   "cell_type": "code",
   "execution_count": null,
   "id": "4e533a9a-8979-40ed-8fb4-6352cb9bb0af",
   "metadata": {},
   "outputs": [],
   "source": []
  }
 ],
 "metadata": {
  "kernelspec": {
   "display_name": "Python 3 (ipykernel)",
   "language": "python",
   "name": "python3"
  },
  "language_info": {
   "codemirror_mode": {
    "name": "ipython",
    "version": 3
   },
   "file_extension": ".py",
   "mimetype": "text/x-python",
   "name": "python",
   "nbconvert_exporter": "python",
   "pygments_lexer": "ipython3",
   "version": "3.8.12"
  }
 },
 "nbformat": 4,
 "nbformat_minor": 5
}
