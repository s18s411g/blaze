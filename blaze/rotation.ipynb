{
 "cells": [
  {
   "cell_type": "code",
   "execution_count": 32,
   "id": "06d9121e-f588-4b6a-be57-018a13f6f035",
   "metadata": {},
   "outputs": [],
   "source": [
    "import numpy as np\n",
    "import math"
   ]
  },
  {
   "cell_type": "code",
   "execution_count": 2,
   "id": "effa0d7c-f73a-4ce4-8fef-1a63b7d670c3",
   "metadata": {},
   "outputs": [],
   "source": [
    "filepath = \"./cp/seisui_kara_1/a-points_intensity.txt\"\n",
    "with open(filepath, \"r\") as f:\n",
    "    lines = f.readlines()"
   ]
  },
  {
   "cell_type": "code",
   "execution_count": 3,
   "id": "d12560b8-34cf-423f-9cb4-58358ad6b667",
   "metadata": {},
   "outputs": [],
   "source": [
    "x_o = -268.619\n",
    "y_o = -118.154\n",
    "z_o = -853.742"
   ]
  },
  {
   "cell_type": "code",
   "execution_count": 4,
   "id": "3bee8679-e953-4cc5-81b9-24bf4c007015",
   "metadata": {},
   "outputs": [
    {
     "data": {
      "text/plain": [
       "['-845.961', '364.36', '-1793.55']"
      ]
     },
     "execution_count": 4,
     "metadata": {},
     "output_type": "execute_result"
    }
   ],
   "source": [
    "lines[0].split()[:3]"
   ]
  },
  {
   "cell_type": "code",
   "execution_count": 5,
   "id": "c550d15a-9b6d-4a31-ab5d-a05d4e53e86d",
   "metadata": {},
   "outputs": [],
   "source": [
    "list_ = [line.split()[:3] for line in lines]"
   ]
  },
  {
   "cell_type": "code",
   "execution_count": 7,
   "id": "669a63ab-1d64-47e8-8a5b-ba7257be92a0",
   "metadata": {},
   "outputs": [
    {
     "data": {
      "text/plain": [
       "['-845.961', '364.36', '-1793.55']"
      ]
     },
     "execution_count": 7,
     "metadata": {},
     "output_type": "execute_result"
    }
   ],
   "source": [
    "list_[0]"
   ]
  },
  {
   "cell_type": "code",
   "execution_count": 24,
   "id": "000d538f-7bfa-4620-882b-0a867eeabdd3",
   "metadata": {},
   "outputs": [],
   "source": [
    "for point in list_:\n",
    "    point[0] = float(point[0]) - x_o\n",
    "    point[1] = float(point[1]) - y_o\n",
    "    point[2] = float(point[2]) - z_o"
   ]
  },
  {
   "cell_type": "code",
   "execution_count": 29,
   "id": "2181b136-060e-49ff-88d7-11cfa07264d3",
   "metadata": {},
   "outputs": [],
   "source": [
    "with open(\"./rotation.txt\", \"w\") as f:\n",
    "    for i in range(len(list_)):\n",
    "        f.write(str(list_[i][0]) + \" \" + str(list_[i][1]) + \" \"\n",
    "                + str(list_[i][2]) + \"\\n\"  )"
   ]
  },
  {
   "cell_type": "code",
   "execution_count": 31,
   "id": "3b6ba393-3540-434d-b2fc-12e18f8c9b31",
   "metadata": {},
   "outputs": [],
   "source": [
    "x1 = 4.924\n",
    "y1 = 2.572\n",
    "z1 = -5.799\n",
    "x2 = -11.975\n",
    "y2 = -93.383\n",
    "z2 = 147.097"
   ]
  },
  {
   "cell_type": "code",
   "execution_count": 40,
   "id": "a9bc7a0e-5d3a-4607-97a3-08ea281a7c19",
   "metadata": {},
   "outputs": [],
   "source": [
    "y_ = y1-y2\n",
    "z_ = z1-z2\n",
    "r = abs(math.sqrt((y_)**2 + (z_)**2))\n",
    "cos = y_ / r\n",
    "sin = z_ / r"
   ]
  },
  {
   "cell_type": "code",
   "execution_count": 41,
   "id": "6b0b9cba-3732-429a-9c26-94f33ca0b73b",
   "metadata": {},
   "outputs": [],
   "source": [
    "list_res = []\n",
    "for point in list_:\n",
    "    x, y, z = point\n",
    "    X = x\n",
    "    Y = (y*cos) + (z*sin)\n",
    "    Z = (-y*sin) + (z*cos)\n",
    "    list_res.append([X, Y, Z])"
   ]
  },
  {
   "cell_type": "code",
   "execution_count": 43,
   "id": "c91f1e93-b0f6-49e1-8495-7aa8ad52e3ac",
   "metadata": {},
   "outputs": [],
   "source": [
    "with open(\"./rotation_2.txt\", \"w\") as f:\n",
    "    for i in range(len(list_res)):\n",
    "        f.write(str(list_res[i][0]) + \" \" + str(list_res[i][1]) + \" \"\n",
    "                + str(list_res[i][2]) + \"\\n\"  )"
   ]
  },
  {
   "cell_type": "code",
   "execution_count": null,
   "id": "96d55005-db1a-4341-87b5-a9d45872b2f2",
   "metadata": {},
   "outputs": [],
   "source": []
  }
 ],
 "metadata": {
  "kernelspec": {
   "display_name": "Python 3 (ipykernel)",
   "language": "python",
   "name": "python3"
  },
  "language_info": {
   "codemirror_mode": {
    "name": "ipython",
    "version": 3
   },
   "file_extension": ".py",
   "mimetype": "text/x-python",
   "name": "python",
   "nbconvert_exporter": "python",
   "pygments_lexer": "ipython3",
   "version": "3.8.12"
  }
 },
 "nbformat": 4,
 "nbformat_minor": 5
}
