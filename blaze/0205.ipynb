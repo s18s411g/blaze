{
 "cells": [
  {
   "cell_type": "code",
   "execution_count": 1,
   "id": "fc97d25b-3a58-4a5d-9afc-998d0c5e3e55",
   "metadata": {},
   "outputs": [],
   "source": [
    "import os\n",
    "import math"
   ]
  },
  {
   "cell_type": "code",
   "execution_count": 2,
   "id": "772a511e-e5f8-43c4-8132-9c9b954694f0",
   "metadata": {},
   "outputs": [],
   "source": [
    "filepath = \"./st/00000.txt\""
   ]
  },
  {
   "cell_type": "code",
   "execution_count": 3,
   "id": "6948c82d-d395-479d-9d50-2d0c3bb30635",
   "metadata": {},
   "outputs": [],
   "source": [
    "with open(filepath, 'r') as f:\n",
    "    lines = f.readlines()"
   ]
  },
  {
   "cell_type": "code",
   "execution_count": 4,
   "id": "06e973da-d6cf-4164-aa57-31a10005756b",
   "metadata": {},
   "outputs": [],
   "source": [
    "points = [line.split(',') for line in lines]"
   ]
  },
  {
   "cell_type": "code",
   "execution_count": 5,
   "id": "e4d14d72-032c-4405-97ca-16edba793afc",
   "metadata": {},
   "outputs": [],
   "source": [
    "for point in points:\n",
    "    point[0] = round(float(point[0]))\n",
    "    point[1] = round(float(point[1]))\n",
    "    point[2] = float(point[2])"
   ]
  },
  {
   "cell_type": "code",
   "execution_count": 6,
   "id": "2dc54f98-2890-48fb-9bf3-8abd43804ec9",
   "metadata": {},
   "outputs": [],
   "source": [
    "out_path = \"./st/dst/\"\n",
    "os.makedirs(out_path, exist_ok=True)\n",
    "with open(out_path+\"cut.txt\", 'w') as f:\n",
    "    for i in range(len(points)):\n",
    "        if round(points[i][0]) < 180 and round(abs(points[i][1])) < 17:\n",
    "            f.write(str(points[i][0]) + \" \" \n",
    "                    + str(points[i][1]) + \" \"\n",
    "                    + str(points[i][2]) + \"\\n\"  )"
   ]
  },
  {
   "cell_type": "code",
   "execution_count": 7,
   "id": "00f96f1f-e745-473d-95e5-7cd79c0c5ed5",
   "metadata": {},
   "outputs": [],
   "source": [
    "count = 0\n",
    "for point in points:\n",
    "    if point[0] == 6 and point[1] == 0:\n",
    "        count += 1"
   ]
  },
  {
   "cell_type": "code",
   "execution_count": 7,
   "id": "cb88b592-4546-4d48-82ac-2d96309bd03c",
   "metadata": {},
   "outputs": [],
   "source": [
    "cut = [point for point in points if point[0]<180 and abs(point[1])<17]"
   ]
  },
  {
   "cell_type": "code",
   "execution_count": 10,
   "id": "e5adf771-4654-43f3-a81e-5c5fad153bb8",
   "metadata": {},
   "outputs": [],
   "source": [
    "unique_x = set([point[0] for point in cut])"
   ]
  },
  {
   "cell_type": "code",
   "execution_count": 12,
   "id": "9fe6f4ac-456d-4678-905b-008bda06f7c1",
   "metadata": {},
   "outputs": [
    {
     "data": {
      "text/plain": [
       "174"
      ]
     },
     "execution_count": 12,
     "metadata": {},
     "output_type": "execute_result"
    }
   ],
   "source": [
    "len(unique_x)"
   ]
  },
  {
   "cell_type": "code",
   "execution_count": 13,
   "id": "e6f1baa4-f83e-478d-b640-eff7eb5df5fc",
   "metadata": {},
   "outputs": [],
   "source": [
    "hoge = [[point for point in cut if point[0] == x] for x in unique_x]"
   ]
  },
  {
   "cell_type": "code",
   "execution_count": 26,
   "id": "1c5e7ce4-5fb8-4b89-87be-61af3936401f",
   "metadata": {},
   "outputs": [],
   "source": [
    "unique_y = set([point[1] for point in hoge[0]])"
   ]
  },
  {
   "cell_type": "code",
   "execution_count": 28,
   "id": "dae6917b-7849-475c-8c5c-fdf47129e99a",
   "metadata": {},
   "outputs": [],
   "source": [
    "fuga = [[[point for point in hogehoge if point[1]==y] for y in unique_y] for hogehoge in hoge]"
   ]
  },
  {
   "cell_type": "code",
   "execution_count": 53,
   "id": "7948100b-07e1-4761-9b8b-3ff5d235e2f8",
   "metadata": {},
   "outputs": [],
   "source": [
    "mean = []\n",
    "for x_len in range(len(unique_x)):\n",
    "    for y_len in range(len(unique_y)):\n",
    "        s = 0\n",
    "        for i in range(len(fuga[x_len][y_len])):\n",
    "            s += fuga[x_len][y_len][i][2]\n",
    "        \n",
    "        z_mean = s / len(fuga[x_len][y_len])\n",
    "        mean.append([fuga[x_len][y_len][0][0],\n",
    "                    fuga[x_len][y_len][0][1],\n",
    "                    z_mean])"
   ]
  },
  {
   "cell_type": "code",
   "execution_count": 58,
   "id": "c0e28cc1-a9ce-45d0-962e-b303472629cf",
   "metadata": {},
   "outputs": [],
   "source": [
    "with open(out_path+\"mean.txt\", 'w') as f:\n",
    "    for i in range(len(mean)):\n",
    "        f.write(str(mean[i][0]) + \" \"\n",
    "                + str(mean[i][1]) + \" \"\n",
    "                + str(mean[i][2]) + \"\\n\"  )"
   ]
  },
  {
   "cell_type": "code",
   "execution_count": null,
   "id": "c7d67633-5284-43a5-aca7-43dd27ab9d7c",
   "metadata": {},
   "outputs": [],
   "source": []
  },
  {
   "cell_type": "code",
   "execution_count": null,
   "id": "f422b469-c1a9-44de-bcf7-9cfcec42cf42",
   "metadata": {},
   "outputs": [],
   "source": []
  }
 ],
 "metadata": {
  "kernelspec": {
   "display_name": "Python 3 (ipykernel)",
   "language": "python",
   "name": "python3"
  },
  "language_info": {
   "codemirror_mode": {
    "name": "ipython",
    "version": 3
   },
   "file_extension": ".py",
   "mimetype": "text/x-python",
   "name": "python",
   "nbconvert_exporter": "python",
   "pygments_lexer": "ipython3",
   "version": "3.8.12"
  }
 },
 "nbformat": 4,
 "nbformat_minor": 5
}
