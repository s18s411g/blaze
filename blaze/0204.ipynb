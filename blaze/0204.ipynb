{
 "cells": [
  {
   "cell_type": "code",
   "execution_count": 12,
   "id": "1620335a-e5c0-4951-9a68-000e1f288999",
   "metadata": {},
   "outputs": [],
   "source": [
    "import os\n",
    "import math"
   ]
  },
  {
   "cell_type": "code",
   "execution_count": 7,
   "id": "6f24da36-c34a-4daf-a6b1-0d604fd0e461",
   "metadata": {},
   "outputs": [],
   "source": [
    "filepath = \"./a.txt\""
   ]
  },
  {
   "cell_type": "code",
   "execution_count": 8,
   "id": "a81a8959-fd93-4471-b869-ebf9cecdd4e2",
   "metadata": {},
   "outputs": [],
   "source": [
    "x_o, y_o, z_o = -305.923, -2.358, -798.047\n",
    "x_x, y_x, z_x = -316.039, -178.714, -530.861\n",
    "x_y, y_y, z_y = 295.871, 0.771, -794.537"
   ]
  },
  {
   "cell_type": "code",
   "execution_count": 9,
   "id": "58e0b85c-2e49-4ae0-a25b-62ba17b47769",
   "metadata": {},
   "outputs": [],
   "source": [
    "with open(filepath, 'r') as f:\n",
    "    lines = f.readlines()"
   ]
  },
  {
   "cell_type": "code",
   "execution_count": 10,
   "id": "0278ce09-e9ae-4561-bada-4f9c4b55c2b0",
   "metadata": {},
   "outputs": [],
   "source": [
    "points = [line.split()[:3] for line in lines]\n",
    "for point in points:\n",
    "    point[0] = float(point[0]) - x_o\n",
    "    point[1] = float(point[1]) - y_o\n",
    "    point[2] = float(point[2]) - z_o"
   ]
  },
  {
   "cell_type": "code",
   "execution_count": 11,
   "id": "e558e1fb-1629-4d1d-931b-7a267a957f80",
   "metadata": {},
   "outputs": [],
   "source": [
    "with open(\"./a_differential.txt\", 'w') as f:\n",
    "    for i in range(len(points)):\n",
    "        f.write(str(points[i][0]) + \" \" \n",
    "                + str(points[i][1]) + \" \"\n",
    "                + str(points[i][2]) + \"\\n\"  )"
   ]
  },
  {
   "cell_type": "code",
   "execution_count": 13,
   "id": "a0cdb6c9-d76a-49af-9b51-3d5bbe879efd",
   "metadata": {},
   "outputs": [],
   "source": [
    "y_r = y_o - y_x\n",
    "z_r = z_o - z_x\n",
    "r = abs(math.sqrt((y_r)**2 + (z_r)**2))\n",
    "cos = y_r / r\n",
    "sin = z_r / r"
   ]
  },
  {
   "cell_type": "code",
   "execution_count": 14,
   "id": "649f2545-0788-49f8-aee5-dd99ffe8339c",
   "metadata": {},
   "outputs": [],
   "source": [
    "#x軸に対して負の回転\n",
    "res = []\n",
    "for point in points:\n",
    "    x, y, z = point\n",
    "    X = x\n",
    "    Y = (y*cos) + (z*sin)\n",
    "    Z = (-y*sin) + (z*cos)\n",
    "    res.append([X, Y, Z])"
   ]
  },
  {
   "cell_type": "code",
   "execution_count": 19,
   "id": "b77ba90e-f9b1-4c04-8bda-aa88aad1df38",
   "metadata": {},
   "outputs": [],
   "source": [
    "x_r = x_o - x_x\n",
    "y_r = y_o - y_x\n",
    "r = abs(math.sqrt((x_r)**2 + (y_r)**2))\n",
    "cos = x_r / r\n",
    "sin = y_r / r"
   ]
  },
  {
   "cell_type": "code",
   "execution_count": 24,
   "id": "0b864f19-28d8-49ad-9d14-8152be8e4769",
   "metadata": {},
   "outputs": [],
   "source": [
    "#z軸に対して負の回転\n",
    "res_z = []\n",
    "for point in res:\n",
    "    x, y, z = point\n",
    "    Z = z\n",
    "    X = (x*cos) + (-y*sin)\n",
    "    Y = (x*sin) + (y*cos)\n",
    "    res_z.append([X, Y, Z])"
   ]
  },
  {
   "cell_type": "code",
   "execution_count": 25,
   "id": "c0e97a79-fd62-4c94-a7f4-e6dff90e544f",
   "metadata": {},
   "outputs": [],
   "source": [
    "with open(\"./a_rotation_x_z.txt\", 'w') as f:\n",
    "    for i in range(len(res)):\n",
    "        f.write(str(res_z[i][0]) + \" \"\n",
    "                + str(res_z[i][1]) + \" \"\n",
    "                + str(res_z[i][2]) + \"\\n\"  )"
   ]
  },
  {
   "cell_type": "code",
   "execution_count": null,
   "id": "9a7a9332-63df-4d11-8d12-44c2b23c358e",
   "metadata": {},
   "outputs": [],
   "source": []
  }
 ],
 "metadata": {
  "kernelspec": {
   "display_name": "Python 3 (ipykernel)",
   "language": "python",
   "name": "python3"
  },
  "language_info": {
   "codemirror_mode": {
    "name": "ipython",
    "version": 3
   },
   "file_extension": ".py",
   "mimetype": "text/x-python",
   "name": "python",
   "nbconvert_exporter": "python",
   "pygments_lexer": "ipython3",
   "version": "3.8.12"
  }
 },
 "nbformat": 4,
 "nbformat_minor": 5
}
