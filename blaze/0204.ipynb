{
 "cells": [
  {
   "cell_type": "code",
   "execution_count": 1,
   "id": "1620335a-e5c0-4951-9a68-000e1f288999",
   "metadata": {},
   "outputs": [],
   "source": [
    "import os\n",
    "import math"
   ]
  },
  {
   "cell_type": "code",
   "execution_count": 36,
   "id": "6f24da36-c34a-4daf-a6b1-0d604fd0e461",
   "metadata": {},
   "outputs": [],
   "source": [
    "filepath = \"./blaze/src/b.txt\""
   ]
  },
  {
   "cell_type": "code",
   "execution_count": 3,
   "id": "a81a8959-fd93-4471-b869-ebf9cecdd4e2",
   "metadata": {},
   "outputs": [],
   "source": [
    "x_o, y_o, z_o = -305.923, -2.358, -798.047\n",
    "x_x, y_x, z_x = -316.039, -178.714, -530.861\n",
    "x_y, y_y, z_y = 295.871, 0.771, -794.537"
   ]
  },
  {
   "cell_type": "code",
   "execution_count": 4,
   "id": "58e0b85c-2e49-4ae0-a25b-62ba17b47769",
   "metadata": {},
   "outputs": [],
   "source": [
    "with open(filepath, 'r') as f:\n",
    "    lines = f.readlines()"
   ]
  },
  {
   "cell_type": "code",
   "execution_count": 5,
   "id": "0278ce09-e9ae-4561-bada-4f9c4b55c2b0",
   "metadata": {},
   "outputs": [],
   "source": [
    "points = [line.split()[:3] for line in lines]\n",
    "for point in points:\n",
    "    point[0] = float(point[0]) - x_o\n",
    "    point[1] = float(point[1]) - y_o\n",
    "    point[2] = float(point[2]) - z_o"
   ]
  },
  {
   "cell_type": "code",
   "execution_count": 6,
   "id": "e558e1fb-1629-4d1d-931b-7a267a957f80",
   "metadata": {},
   "outputs": [],
   "source": [
    "with open(\"./blaze/dst/a_differential.txt\", 'w') as f:\n",
    "    for i in range(len(points)):\n",
    "        f.write(str(points[i][0]) + \" \" \n",
    "                + str(points[i][1]) + \" \"\n",
    "                + str(points[i][2]) + \"\\n\"  )"
   ]
  },
  {
   "cell_type": "code",
   "execution_count": 7,
   "id": "a0cdb6c9-d76a-49af-9b51-3d5bbe879efd",
   "metadata": {},
   "outputs": [],
   "source": [
    "y_r = y_o - y_x\n",
    "z_r = z_o - z_x\n",
    "r = abs(math.sqrt((y_r)**2 + (z_r)**2))\n",
    "cos = y_r / r\n",
    "sin = z_r / r"
   ]
  },
  {
   "cell_type": "code",
   "execution_count": 8,
   "id": "649f2545-0788-49f8-aee5-dd99ffe8339c",
   "metadata": {},
   "outputs": [],
   "source": [
    "#x軸に対して負の回転\n",
    "res = []\n",
    "for point in points:\n",
    "    x, y, z = point\n",
    "    X = x\n",
    "    Y = (y*cos) + (z*sin)\n",
    "    Z = (-y*sin) + (z*cos)\n",
    "    res.append([X, Y, Z])"
   ]
  },
  {
   "cell_type": "code",
   "execution_count": 9,
   "id": "b77ba90e-f9b1-4c04-8bda-aa88aad1df38",
   "metadata": {},
   "outputs": [],
   "source": [
    "x_r = x_o - x_x\n",
    "y_r = y_o - y_x\n",
    "r = abs(math.sqrt((x_r)**2 + (y_r)**2))\n",
    "cos = x_r / r\n",
    "sin = y_r / r"
   ]
  },
  {
   "cell_type": "code",
   "execution_count": 31,
   "id": "0b864f19-28d8-49ad-9d14-8152be8e4769",
   "metadata": {},
   "outputs": [],
   "source": [
    "#z軸に対して正の回転\n",
    "res_z = []\n",
    "deg = 90\n",
    "cos = math.cos(math.radians(deg))\n",
    "sin = math.sin(math.radians(deg))\n",
    "for point in res:\n",
    "    x, y, z = point\n",
    "    Z = z\n",
    "    X = (x*cos) + (-y*sin)\n",
    "    Y = (x*sin) + (y*cos)\n",
    "    res_z.append([X, Y, Z])"
   ]
  },
  {
   "cell_type": "code",
   "execution_count": 32,
   "id": "c0e97a79-fd62-4c94-a7f4-e6dff90e544f",
   "metadata": {},
   "outputs": [],
   "source": [
    "with open(\"./blaze/dst/a_rotation_x_z.txt\", 'w') as f:\n",
    "    for i in range(len(res)):\n",
    "        f.write(str(res_z[i][0]) + \" \"\n",
    "                + str(res_z[i][1]) + \" \"\n",
    "                + str(res_z[i][2]) + \"\\n\"  )"
   ]
  },
  {
   "cell_type": "code",
   "execution_count": null,
   "id": "7703160e-fb57-4dc5-af51-4868551213d7",
   "metadata": {},
   "outputs": [],
   "source": []
  },
  {
   "cell_type": "code",
   "execution_count": 117,
   "id": "0005f3ad-b4f3-4fd3-9201-b53f35969891",
   "metadata": {},
   "outputs": [],
   "source": [
    "def read_blazedata(filepath):\n",
    "    with open(filepath, 'r') as f:\n",
    "        lines = f.readlines()\n",
    "    points = [line.split()[:3] for line in lines]\n",
    "    \n",
    "    return points\n",
    "\n",
    "def write_data(output_path, _res):\n",
    "    with open(output_path, 'w') as f:\n",
    "        for i in range(len(_res)):\n",
    "            f.write(str(_res[i][0]) + \" \"\n",
    "                    + str(_res[i][1]) + \" \"\n",
    "                    + str(_res[i][2]) + \"\\n\"  )            \n",
    "\n",
    "def set_origin(points, origin):\n",
    "    x, y, z = origin\n",
    "    for point in points:\n",
    "        point[0] = float(point[0]) - x\n",
    "        point[1] = float(point[1]) - y\n",
    "        point[2] = float(point[2]) - z\n",
    "        \n",
    "def calculate_degree(origin, point, axis):\n",
    "    x_o, y_o, z_o = origin\n",
    "    x_p, y_p, z_p = point\n",
    "    if axis == 'x':\n",
    "        r1 = y_o - y_p\n",
    "        r2 = z_o - z_p\n",
    "    elif axis == 'y':\n",
    "        r1 = z_o - z_p\n",
    "        r2 = x_o - x_p\n",
    "    elif axis == 'z':\n",
    "        r1 = x_o - x_p\n",
    "        r2 = y_o - y_p\n",
    "    r = abs(math.sqrt((r1)**2 + (r2)**2))\n",
    "    cos = r1 / r\n",
    "    deg = math.degrees(math.acos(cos))\n",
    "    \n",
    "    return deg\n",
    "\n",
    "def rotate_with_x(points, deg, pn):\n",
    "    '''\n",
    "    Parameters\n",
    "    ----------\n",
    "    pn : 1 or -1\n",
    "    '''\n",
    "    _res = []\n",
    "    cos = math.cos(math.radians(deg))\n",
    "    sin = math.sin(math.radians(deg))\n",
    "    for point in points:\n",
    "        x, y, z = point\n",
    "        X = x\n",
    "        Y = (y*cos) + (-z*sin*pn)\n",
    "        Z = (y*sin*pn) + (z*cos)\n",
    "        _res.append([X, Y, Z])\n",
    "        \n",
    "    return _res      \n",
    "\n",
    "def rotate_with_z(points, deg, pn):\n",
    "    ''' \n",
    "    Parameters\n",
    "    ----------\n",
    "    pn : 1 or -1\n",
    "    '''\n",
    "    _res = []\n",
    "    cos = math.cos(math.radians(deg))\n",
    "    sin = math.sin(math.radians(deg))\n",
    "    for point in points:\n",
    "        x, y, z = point\n",
    "        Z = z\n",
    "        X = (x*cos) + (-y*sin*pn)\n",
    "        Y = (x*sin*pn) + (y*cos)\n",
    "        _res.append([X, Y, Z])\n",
    "        \n",
    "    return _res\n",
    "\n",
    "def scaling(points, ratio):\n",
    "    for point in points:\n",
    "        point[0] = point[0] * ratio\n",
    "        point[1] = point[1] * ratio\n",
    "        point[2] = point[2] * ratio\n",
    "        \n",
    "def thinning(points, _range, axis):\n",
    "    daxis = {\"x\": 0, \"y\":1, \"z\":2}\n",
    "    _res = [point for point in points \n",
    "            if _range[0]<=point[daxis[axis]]<=_range[1]]\n",
    "    \n",
    "    return _res\n",
    "\n",
    "def grid(points):\n",
    "    for point in points:\n",
    "        point[0] = round(float(point[0]))\n",
    "        point[1] = round(float(point[1]))\n",
    "        point[2] = float(point[2])\n",
    "        \n",
    "def averaging(points):\n",
    "    unique_x = set([point[0] for point in points])\n",
    "    sort_xs = [[point for point in points if point[0]==x] for x in unique_x]\n",
    "    unique_y = set([point[1] for point in sort_xs[0]])\n",
    "    sort_ys = [[[point for point in sort_x if point[1]==y] for y in unique_y] for sort_x in sort_xs]\n",
    "\n",
    "    _average = []\n",
    "    for x_len in range(len(unique_x)):\n",
    "        for y_len in range(len(unique_y)):\n",
    "            s = 0\n",
    "            for i in range(len(sort_ys[x_len][y_len])):\n",
    "                s += sort_ys[x_len][y_len][i][2]\n",
    "               \n",
    "            if s!=0:\n",
    "                z_mean = s / len(sort_ys[x_len][y_len])\n",
    "                _average.append([sort_ys[x_len][y_len][0][0],\n",
    "                            sort_ys[x_len][y_len][0][1],\n",
    "                            z_mean])\n",
    "    \n",
    "    return _average"
   ]
  },
  {
   "cell_type": "code",
   "execution_count": 50,
   "id": "ccad6594-de0a-4a1e-bd42-b5588322464a",
   "metadata": {},
   "outputs": [],
   "source": [
    "points = read_blazedata(filepath)"
   ]
  },
  {
   "cell_type": "code",
   "execution_count": 52,
   "id": "25573b79-5b42-492d-9acb-15bfd8a62507",
   "metadata": {},
   "outputs": [],
   "source": [
    "origin = [-432.486, -76.069, -956.741]\n",
    "set_origin(points, origin) "
   ]
  },
  {
   "cell_type": "code",
   "execution_count": 81,
   "id": "c3739578-055c-425d-a92e-8372a130f48d",
   "metadata": {},
   "outputs": [],
   "source": [
    "point = [-436.692, -129.157, -871.443]\n",
    "deg = calculate_degree(origin, point, 'x')\n",
    "res = rotate_with_x(points, deg, 1)\n",
    "res = rotate_with_z(res, 175.5, -1)"
   ]
  },
  {
   "cell_type": "code",
   "execution_count": 87,
   "id": "18644810-7ec8-4709-a8d8-aea3ddeb3097",
   "metadata": {},
   "outputs": [],
   "source": [
    "ratio = 34 / 440.295\n",
    "scaling(res, ratio)"
   ]
  },
  {
   "cell_type": "code",
   "execution_count": 89,
   "id": "0007dfb3-07d7-4b1e-b7a4-777bd560e2c2",
   "metadata": {},
   "outputs": [],
   "source": [
    "write_data(\"./blaze/dst/b_rotate_x.txt\", res)"
   ]
  },
  {
   "cell_type": "code",
   "execution_count": null,
   "id": "9fb0dc32-ab9d-4a64-9c40-937bdaaf7d25",
   "metadata": {},
   "outputs": [],
   "source": []
  },
  {
   "cell_type": "code",
   "execution_count": 92,
   "id": "2df3aca5-731a-4009-bde4-24af54c4d45f",
   "metadata": {},
   "outputs": [],
   "source": [
    "#データの間引き\n",
    "grid(res)"
   ]
  },
  {
   "cell_type": "code",
   "execution_count": 110,
   "id": "fe55ea6b-4c7a-4d02-a0a0-15829ddd6a18",
   "metadata": {},
   "outputs": [],
   "source": [
    "thz_res = thinning(res, [-4, 10], \"z\")\n",
    "thy_res = thinning(thz_res, [-17, 17], \"y\")\n",
    "thx_res = thinning(thy_res, [-70, 1], \"x\")"
   ]
  },
  {
   "cell_type": "code",
   "execution_count": 111,
   "id": "85331511-6edd-46ab-a389-db791c2f44a5",
   "metadata": {},
   "outputs": [],
   "source": [
    "write_data(\"./blaze/dst/b_thx.txt\", thx_res)"
   ]
  },
  {
   "cell_type": "code",
   "execution_count": null,
   "id": "ba8cfec3-fd40-41d2-9352-bdc95cfbeb97",
   "metadata": {},
   "outputs": [],
   "source": []
  },
  {
   "cell_type": "code",
   "execution_count": 118,
   "id": "9ac6a69b-c726-465c-8eb9-0fbec8cb37a9",
   "metadata": {},
   "outputs": [],
   "source": [
    "#同じ座標の点を一つにする\n",
    "ave_res = averaging(thx_res)"
   ]
  },
  {
   "cell_type": "code",
   "execution_count": 119,
   "id": "2681a1c1-8a97-4503-89eb-b76069c9f99e",
   "metadata": {},
   "outputs": [],
   "source": [
    "write_data(\"./blaze/dst/b_ave.txt\", ave_res)"
   ]
  },
  {
   "cell_type": "code",
   "execution_count": null,
   "id": "39779816-89da-4951-a952-fd9f88f89f5e",
   "metadata": {},
   "outputs": [],
   "source": []
  }
 ],
 "metadata": {
  "kernelspec": {
   "display_name": "Python 3 (ipykernel)",
   "language": "python",
   "name": "python3"
  },
  "language_info": {
   "codemirror_mode": {
    "name": "ipython",
    "version": 3
   },
   "file_extension": ".py",
   "mimetype": "text/x-python",
   "name": "python",
   "nbconvert_exporter": "python",
   "pygments_lexer": "ipython3",
   "version": "3.8.12"
  }
 },
 "nbformat": 4,
 "nbformat_minor": 5
}
