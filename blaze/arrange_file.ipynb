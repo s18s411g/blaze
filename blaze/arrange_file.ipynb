{
 "cells": [
  {
   "cell_type": "code",
   "execution_count": 1,
   "id": "ba83a5d7-038f-4c58-9aed-52bd7ae5d598",
   "metadata": {},
   "outputs": [],
   "source": [
    "import os"
   ]
  },
  {
   "cell_type": "code",
   "execution_count": 2,
   "id": "5e37fce6-4305-47ec-8298-da1abad54308",
   "metadata": {},
   "outputs": [],
   "source": [
    "def arrange_file(input_path, output_path):\n",
    "    '''\n",
    "    blazeのデータをの要らないところを切り取る\n",
    "    Parameters\n",
    "    ---------\n",
    "    input_path : \n",
    "    output_path : \n",
    "    \n",
    "    Reterns\n",
    "    ---------\n",
    "    '''\n",
    "    with open(input_path, 'r') as f:\n",
    "        lines = f.readlines()\n",
    "\n",
    "    start_index = lines.index('end_header\\n')\n",
    "    end_index = lines.index('0\\n')\n",
    "\n",
    "    os.makedirs(os.path.split(output_path)[0], exist_ok=True)\n",
    "    with open(output_path, 'w') as f:\n",
    "        for i in range(start_index+1, end_index):\n",
    "            line = lines[i]\n",
    "            f.write(line)"
   ]
  },
  {
   "cell_type": "code",
   "execution_count": null,
   "id": "c8ec78f7-8db0-432d-9549-3fcd1c8b2362",
   "metadata": {},
   "outputs": [],
   "source": [
    "filepath = \"../20220131_cp/hennkou_2/blaze-101-24066134-0005-points_intensity.ply\"\n",
    "output_dir = \"../src_DaiCon/\"\n",
    "output_path = output_dir + os.path.split(os.path.split(filepath)[0])[1] + \"/01.txt\""
   ]
  },
  {
   "cell_type": "code",
   "execution_count": null,
   "id": "75d57b36-061e-4924-a5cf-9cafceec2e35",
   "metadata": {},
   "outputs": [],
   "source": [
    "arrange_file(filepath, output_path)"
   ]
  },
  {
   "cell_type": "code",
   "execution_count": null,
   "id": "105a0ebd-19fa-4e09-b6d5-38438d43ee19",
   "metadata": {},
   "outputs": [],
   "source": []
  }
 ],
 "metadata": {
  "kernelspec": {
   "display_name": "Python 3 (ipykernel)",
   "language": "python",
   "name": "python3"
  },
  "language_info": {
   "codemirror_mode": {
    "name": "ipython",
    "version": 3
   },
   "file_extension": ".py",
   "mimetype": "text/x-python",
   "name": "python",
   "nbconvert_exporter": "python",
   "pygments_lexer": "ipython3",
   "version": "3.8.12"
  }
 },
 "nbformat": 4,
 "nbformat_minor": 5
}
