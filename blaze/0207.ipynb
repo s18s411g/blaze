{
 "cells": [
  {
   "cell_type": "code",
   "execution_count": 61,
   "id": "4f9b9c8e-a7fe-4eaa-b715-0c152d48cbee",
   "metadata": {},
   "outputs": [],
   "source": [
    "import os\n",
    "import math\n",
    "\n",
    "import matplotlib.pyplot as plt\n",
    "\n",
    "from module import blaze"
   ]
  },
  {
   "cell_type": "markdown",
   "id": "97700051-938a-481f-90aa-65cafd0560b1",
   "metadata": {},
   "source": [
    "filepath = \"../src_DaiCon/seisui_10cm/01.txt\"\n",
    "out_dir = \"./blaze/dst/\"\n",
    "out_path = out_dir + os.path.split(os.path.split(filepath)[0])[1] + \".txt\"\n",
    "origin = [-336.106, -236.841, -724.651]\n",
    "point_x = [-337.849, -271.162, -668.956]\n",
    "ratio = 0.2\n",
    "x_range = [-8, 130]\n",
    "y_range = [-40, 30]"
   ]
  },
  {
   "cell_type": "markdown",
   "id": "f0174e29-07b2-4f6d-9ab0-4d5100bf722e",
   "metadata": {},
   "source": [
    "\"\"\"\n",
    "points = blaze.read_blazedata(filepath)\n",
    "blaze.set_origin(points, origin)\n",
    "deg_x = blaze.calculate_degree(origin, point_x, 'x')\n",
    "rot_x = blaze.rotate_with_x(points, deg_x, 1)\n",
    "rot_z = blaze.rotate_with_z(rot_x, 2, 1)\n",
    "blaze.scaling(rot_z, ratio)\n",
    "th_x = blaze.thinning(rot_z, x_range, 'x')\n",
    "th_y = blaze.thinning(th_x, y_range, 'y')\n",
    "blaze.grid(th_y)\n",
    "ave_res = blaze.averaging(th_y)\n",
    "blaze.write_data(out_path, ave_res)\n",
    "\"\"\""
   ]
  },
  {
   "cell_type": "code",
   "execution_count": 21,
   "id": "cb771b6c-d55f-42a9-b9e1-5fd1512fe2c5",
   "metadata": {},
   "outputs": [],
   "source": [
    "basepath = \"./blaze/dst/seisui_nashi.txt\"\n",
    "targetpath = \"./blaze/dst/seisui_1cm.txt\""
   ]
  },
  {
   "cell_type": "code",
   "execution_count": 22,
   "id": "319b2cb2-4165-476c-936d-e76b7dd4c37f",
   "metadata": {},
   "outputs": [],
   "source": [
    "bpoints = blaze.read_blazedata(basepath)\n",
    "tpoints = blaze.read_blazedata(targetpath)"
   ]
  },
  {
   "cell_type": "code",
   "execution_count": 48,
   "id": "12d88796-6b9e-43d8-bfbd-1dab62c8a311",
   "metadata": {},
   "outputs": [],
   "source": [
    "res = []\n",
    "c = 0\n",
    "n = 0\n",
    "for i in range(len(bpoints)):\n",
    "    if bpoints[i][0] == tpoints[i][0] and bpoints[i][1] == tpoints[i][1] :\n",
    "        if bpoints[i][0] != 'None':\n",
    "            z = float(bpoints[i][2]) - float(tpoints[i][2])\n",
    "            res.append([bpoints[i][0], bpoints[i][1], str(z)])\n",
    "        else :\n",
    "            n += 1\n",
    "    else :\n",
    "        c += 1"
   ]
  },
  {
   "cell_type": "code",
   "execution_count": 49,
   "id": "57399c9e-0116-4f38-a596-45bf35f5a71c",
   "metadata": {},
   "outputs": [],
   "source": [
    "out_path = \"./blaze/dst/delta_nashi_1cm.txt\"\n",
    "blaze.write_data(out_path, res)"
   ]
  },
  {
   "cell_type": "code",
   "execution_count": 59,
   "id": "ce6c97f9-c967-4327-a3c1-e21f5ff5199e",
   "metadata": {},
   "outputs": [],
   "source": [
    "delta_z = [float(point[2]) for point in res]"
   ]
  },
  {
   "cell_type": "code",
   "execution_count": 68,
   "id": "80f8cc19-51a6-4356-b371-0109afdf18e7",
   "metadata": {},
   "outputs": [
    {
     "name": "stderr",
     "output_type": "stream",
     "text": [
      "C:\\Users\\S18S4~1.DES\\AppData\\Local\\Temp/ipykernel_4788/549619602.py:7: UserWarning: Matplotlib is currently using module://matplotlib_inline.backend_inline, which is a non-GUI backend, so cannot show the figure.\n",
      "  fig.show()\n"
     ]
    },
    {
     "data": {
      "image/png": "[encoded data removed]",
      "text/plain": [
       "<Figure size 1152x648 with 1 Axes>"
      ]
     },
     "metadata": {
      "needs_background": "light"
     },
     "output_type": "display_data"
    }
   ],
   "source": [
    "fig = plt.figure(figsize=(16, 9))\n",
    "ax = fig.add_subplot(111)\n",
    "ax.hist(delta_z, bins=100)\n",
    "ax.set_title('delta nashi 1cm')\n",
    "ax.set_xlabel('delta')\n",
    "ax.set_ylabel('Num of point')\n",
    "fig.show()"
   ]
  },
  {
   "cell_type": "code",
   "execution_count": 79,
   "id": "6f4ad14e-f44e-42cb-a28b-b1fdf5decdbe",
   "metadata": {},
   "outputs": [],
   "source": [
    "path = \"../20220207/seisui/hennkou/maue/yoko/blaze-101-24066134-0028-points_intensity.ply\"\n",
    "out = \"./blaze/dst/0000.txt\"\n",
    "points = blaze.arrange_file(path, out)"
   ]
  },
  {
   "cell_type": "code",
   "execution_count": null,
   "id": "56e1fed1-5109-478b-b2fc-6600f2d6aad7",
   "metadata": {},
   "outputs": [],
   "source": []
  }
 ],
 "metadata": {
  "kernelspec": {
   "display_name": "Python 3 (ipykernel)",
   "language": "python",
   "name": "python3"
  },
  "language_info": {
   "codemirror_mode": {
    "name": "ipython",
    "version": 3
   },
   "file_extension": ".py",
   "mimetype": "text/x-python",
   "name": "python",
   "nbconvert_exporter": "python",
   "pygments_lexer": "ipython3",
   "version": "3.8.12"
  }
 },
 "nbformat": 4,
 "nbformat_minor": 5
}
