{
 "cells": [
  {
   "cell_type": "code",
   "execution_count": 65,
   "id": "01b4e436-9205-4a24-bfbe-6d8b8190d3bd",
   "metadata": {},
   "outputs": [],
   "source": [
    "import os\n",
    "import math\n",
    "\n",
    "from module import blaze"
   ]
  },
  {
   "cell_type": "code",
   "execution_count": 120,
   "id": "83816900-992f-47e0-bcf9-e07d76acfdfd",
   "metadata": {},
   "outputs": [],
   "source": [
    "filepath = \"../src_DaiCon/seisui_10cm/01.txt\"\n",
    "out_dir = \"./blaze/dst/\"\n",
    "out_path = out_dir + os.path.split(filepath)[1]"
   ]
  },
  {
   "cell_type": "code",
   "execution_count": 121,
   "id": "260a5fe8-7ad6-4641-85ca-f21feccb287f",
   "metadata": {},
   "outputs": [],
   "source": [
    "points = blaze.read_blazedata(filepath)"
   ]
  },
  {
   "cell_type": "code",
   "execution_count": 122,
   "id": "a3531099-425c-4cca-a296-f7c7e92d02da",
   "metadata": {},
   "outputs": [],
   "source": [
    "origin = [-336.106, -236.841, -724.651]\n",
    "blaze.set_origin(points, origin)"
   ]
  },
  {
   "cell_type": "code",
   "execution_count": 123,
   "id": "ca6c39d8-b5a2-428d-96e2-b944876305c9",
   "metadata": {},
   "outputs": [],
   "source": [
    "point_x = [-337.849, -271.162, -668.956]\n",
    "deg_x = blaze.calculate_degree(origin, point_x, 'x')"
   ]
  },
  {
   "cell_type": "code",
   "execution_count": 124,
   "id": "8da7f584-357d-46cf-9e87-840278a19259",
   "metadata": {},
   "outputs": [],
   "source": [
    "rot_x = blaze.rotate_with_x(points, deg_x, 1)"
   ]
  },
  {
   "cell_type": "code",
   "execution_count": 125,
   "id": "f18c286a-7e01-4550-bf1e-fdac10ca5543",
   "metadata": {},
   "outputs": [],
   "source": [
    "rot_z = blaze.rotate_with_z(rot_x, 2, 1)"
   ]
  },
  {
   "cell_type": "code",
   "execution_count": 126,
   "id": "323d1720-1ca8-48bc-bdd0-2e3f25c8634c",
   "metadata": {},
   "outputs": [],
   "source": [
    "ratio = 0.2\n",
    "blaze.scaling(rot_z, ratio)"
   ]
  },
  {
   "cell_type": "code",
   "execution_count": 127,
   "id": "e5d28b9d-c0a8-4ece-8c67-366db884fb40",
   "metadata": {},
   "outputs": [],
   "source": [
    "x_range = [-8, 130]\n",
    "y_range = [-40, 30]\n",
    "th_x = blaze.thinning(rot_z, x_range, 'x')\n",
    "th_y = blaze.thinning(th_x, y_range, 'y')"
   ]
  },
  {
   "cell_type": "code",
   "execution_count": 128,
   "id": "93155557-a91f-4aea-b395-a3c741df582b",
   "metadata": {},
   "outputs": [],
   "source": [
    "blaze.grid(th_y)\n",
    "ave_res = blaze.averaging(th_y)"
   ]
  },
  {
   "cell_type": "code",
   "execution_count": 129,
   "id": "3fdc5ce7-7c57-4353-aa84-26e0990659d6",
   "metadata": {},
   "outputs": [],
   "source": [
    "blaze.write_data(out_path, ave_res)"
   ]
  },
  {
   "cell_type": "code",
   "execution_count": null,
   "id": "112dac8f-bf33-498c-b8f0-14a824910e0e",
   "metadata": {},
   "outputs": [],
   "source": []
  },
  {
   "cell_type": "code",
   "execution_count": null,
   "id": "6fca5678-3336-496c-896a-b57a36f920d2",
   "metadata": {},
   "outputs": [],
   "source": []
  },
  {
   "cell_type": "code",
   "execution_count": null,
   "id": "6dddeee1-29a4-48c5-9cff-19d5883d40d9",
   "metadata": {},
   "outputs": [],
   "source": []
  },
  {
   "cell_type": "code",
   "execution_count": null,
   "id": "5019f8e2-4f43-4389-8518-7678da459d28",
   "metadata": {},
   "outputs": [],
   "source": []
  }
 ],
 "metadata": {
  "kernelspec": {
   "display_name": "Python 3 (ipykernel)",
   "language": "python",
   "name": "python3"
  },
  "language_info": {
   "codemirror_mode": {
    "name": "ipython",
    "version": 3
   },
   "file_extension": ".py",
   "mimetype": "text/x-python",
   "name": "python",
   "nbconvert_exporter": "python",
   "pygments_lexer": "ipython3",
   "version": "3.8.12"
  }
 },
 "nbformat": 4,
 "nbformat_minor": 5
}
